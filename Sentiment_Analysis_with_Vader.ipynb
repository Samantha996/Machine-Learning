{
  "nbformat": 4,
  "nbformat_minor": 0,
  "metadata": {
    "colab": {
      "name": "Sentiment Analysis with Vader.ipynb",
      "provenance": [],
      "authorship_tag": "ABX9TyMt+nuAzAdaNOY2Kp+HW6BE",
      "include_colab_link": true
    },
    "kernelspec": {
      "name": "python3",
      "display_name": "Python 3"
    }
  },
  "cells": [
    {
      "cell_type": "markdown",
      "metadata": {
        "id": "view-in-github",
        "colab_type": "text"
      },
      "source": [
        "<a href=\"https://colab.research.google.com/github/Samantha996/Machine-Learning/blob/main/Sentiment_Analysis_with_Vader.ipynb\" target=\"_parent\"><img src=\"https://colab.research.google.com/assets/colab-badge.svg\" alt=\"Open In Colab\"/></a>"
      ]
    },
    {
      "cell_type": "code",
      "metadata": {
        "colab": {
          "base_uri": "https://localhost:8080/"
        },
        "id": "_e19EweypJVZ",
        "outputId": "0ffa7d3e-6af2-4194-ad6e-4c00a0520186"
      },
      "source": [
        "!pip install bS4\r\n",
        "!pip install nltk\r\n"
      ],
      "execution_count": 1,
      "outputs": [
        {
          "output_type": "stream",
          "text": [
            "Requirement already satisfied: bS4 in /usr/local/lib/python3.7/dist-packages (0.0.1)\n",
            "Requirement already satisfied: beautifulsoup4 in /usr/local/lib/python3.7/dist-packages (from bS4) (4.6.3)\n",
            "Requirement already satisfied: nltk in /usr/local/lib/python3.7/dist-packages (3.2.5)\n",
            "Requirement already satisfied: six in /usr/local/lib/python3.7/dist-packages (from nltk) (1.15.0)\n"
          ],
          "name": "stdout"
        }
      ]
    },
    {
      "cell_type": "code",
      "metadata": {
        "colab": {
          "base_uri": "https://localhost:8080/"
        },
        "id": "z1fumS4ep8av",
        "outputId": "a865eef8-cbad-4bc7-e079-ca04daaa7c15"
      },
      "source": [
        "from urllib.request import urlopen, Request\r\n",
        "from bs4 import BeautifulSoup\r\n",
        "import pandas as pd\r\n",
        "import matplotlib.pyplot as plt\r\n",
        "from nltk.sentiment.vader import SentimentIntensityAnalyzer\r\n",
        "\r\n",
        "finviz_url = 'https://www.finviz.com/quote.ashx?t='"
      ],
      "execution_count": 2,
      "outputs": [
        {
          "output_type": "stream",
          "text": [
            "/usr/local/lib/python3.7/dist-packages/nltk/twitter/__init__.py:20: UserWarning: The twython library has not been installed. Some functionality from the twitter package will not be available.\n",
            "  warnings.warn(\"The twython library has not been installed. \"\n"
          ],
          "name": "stderr"
        }
      ]
    },
    {
      "cell_type": "code",
      "metadata": {
        "id": "wWwhqJXwqamS"
      },
      "source": [
        "news_tables = {}\r\n",
        "tickers = ['AMZN', 'TSLA', 'FB']\r\n",
        "\r\n",
        "for ticker in tickers:\r\n",
        "  url = finviz_url + ticker\r\n",
        "\r\n",
        "  req = Request(url=url, headers={'user-agent':'app1/0.0.1'})\r\n",
        "  response = urlopen(req)\r\n",
        "  \r\n",
        "  html = BeautifulSoup(response, features ='html.parser')\r\n",
        "  news_table = html.find(id='news-table')                  \r\n",
        "  news_tables[ticker] = news_table\r\n",
        " \r\n",
        "#amzn_data = news_tables['AMZN']\r\n",
        "#amzn_rows = amzn_data.findAll('tr') #list of all elements inside HTML objects\r\n",
        "\r\n",
        "#for i, row in enumerate(amzn_rows):\r\n",
        " # title = row.a.text\r\n",
        "  #td_text = row.td.text\r\n",
        "  #print(title)\r\n",
        "  #print(td_text)"
      ],
      "execution_count": 13,
      "outputs": []
    },
    {
      "cell_type": "code",
      "metadata": {
        "colab": {
          "base_uri": "https://localhost:8080/"
        },
        "id": "R4lLoaLOsAzE",
        "outputId": "808908c9-3f1d-402c-995b-41cf18dca4b6"
      },
      "source": [
        "from datetime import date\r\n",
        "parsed_data = []\r\n",
        "\r\n",
        "for ticker, news_table in news_tables.items():\r\n",
        "\r\n",
        "  for row in news_table.findAll('tr'):\r\n",
        "    title = row.a.get_text()\r\n",
        "    date_data = row.td.text.split(' ') #split based on space\r\n",
        "\r\n",
        "    if len(date_data) == 1:\r\n",
        "      time = date_data[0]\r\n",
        "    else:\r\n",
        "      date = date_data[0]\r\n",
        "      time = date_data[1]\r\n",
        "    \r\n",
        "    parsed_data.append([ticker, date, time, title])\r\n",
        "\r\n",
        "print(parsed_data)"
      ],
      "execution_count": 14,
      "outputs": [
        {
          "output_type": "stream",
          "text": [
            "[['AMZN', 'Feb-25-21', '10:00PM\\xa0\\xa0', '1 Green Flag for Teladoc Health'], ['AMZN', 'Feb-25-21', '06:00PM\\xa0\\xa0', 'What Are the Risks for Moderna Shareholders?'], ['AMZN', 'Feb-25-21', '04:05PM\\xa0\\xa0', 'ViacomCBS To Take On Streaming Video Rivals With Paramount+, Other Services'], ['AMZN', 'Feb-25-21', '04:04PM\\xa0\\xa0', \"Plug Power Reports Steep Negative Revenue  Here's Why\"], ['AMZN', 'Feb-25-21', '04:00PM\\xa0\\xa0', 'Costco Lifting Minimum Wage to $16 Per Hour, $1 Over Amazon, Walmart, and Target'], ['AMZN', 'Feb-25-21', '03:24PM\\xa0\\xa0', 'Governments need more money to fight Google antitrust cases, lawyer tells Congress'], ['AMZN', 'Feb-25-21', '03:05PM\\xa0\\xa0', 'HP shocks Wall Street, blows away earnings estimates'], ['AMZN', 'Feb-25-21', '12:34PM\\xa0\\xa0', \"ViacomCBS CFO on Paramount+ plans: We're bullish about what we can achieve\"], ['AMZN', 'Feb-25-21', '12:33PM\\xa0\\xa0', 'Buying Walmart Stock Could Be the Smartest Thing You Ever Do'], ['AMZN', 'Feb-25-21', '11:36AM\\xa0\\xa0', 'House members assail Big Tech (again), consider changes to antitrust law'], ['AMZN', 'Feb-25-21', '11:22AM\\xa0\\xa0', 'Why Is Everyone Talking About Amazon Stock?'], ['AMZN', 'Feb-25-21', '10:58AM\\xa0\\xa0', 'Amazon Fire TV and Gaming Boss Marc Whitten Exits to Join Unity Technologies'], ['AMZN', 'Feb-25-21', '10:00AM\\xa0\\xa0', 'Should Amazon Buy AMC Theatres?'], ['AMZN', 'Feb-25-21', '10:00AM\\xa0\\xa0', 'IMDbPro Adds Thousands of Cast and Crew Notices Through New Agreements With Staff Me Up, Casting Calls America and Crew Calls America'], ['AMZN', 'Feb-25-21', '09:43AM\\xa0\\xa0', '4 SPAC Mergers Worth $16 Billion Were Announced on Wednesday. What You Need to Know.'], ['AMZN', 'Feb-25-21', '09:19AM\\xa0\\xa0', 'Blockbuster movies will come back after COVID-19: former Legendary Entertainment CEO'], ['AMZN', 'Feb-25-21', '09:00AM\\xa0\\xa0', \"Walmart and Oracle's Bid to Acquire TikTok is Dead. Now What?\"], ['AMZN', 'Feb-25-21', '09:00AM\\xa0\\xa0', 'Is Beyond Meat Stock a Buy?'], ['AMZN', 'Feb-25-21', '08:13AM\\xa0\\xa0', 'Facebook, Netflix Face Fresh Scrutiny as India Tightens Grip'], ['AMZN', 'Feb-25-21', '07:51AM\\xa0\\xa0', '3 Recession-Proof Stocks to Buy Now'], ['AMZN', 'Feb-25-21', '07:15AM\\xa0\\xa0', \"The Hidden Number Behind Mastercard's and Apple's Incredible Gains\"], ['AMZN', 'Feb-25-21', '06:30AM\\xa0\\xa0', 'How Safe Is Walgreens Boots Alliance and Its Dividend?'], ['AMZN', 'Feb-25-21', '06:14AM\\xa0\\xa0', \"Best Buy may get $400 million sales boost from Fry's Electronics going bust: analyst\"], ['AMZN', 'Feb-25-21', '06:01AM\\xa0\\xa0', 'Is GrowGeneration Stock a Buy?'], ['AMZN', 'Feb-25-21', '06:00AM\\xa0\\xa0', 'Influencers with Andy Serwer: Thomas Tull'], ['AMZN', 'Feb-25-21', '06:00AM\\xa0\\xa0', \"'I don't' miss the glamour of Hollywood: Legendary Entertainment founder\"], ['AMZN', 'Feb-25-21', '06:00AM\\xa0\\xa0', '3 Top Healthcare Stocks to Buy in 2021'], ['AMZN', 'Feb-24-21', '07:26PM\\xa0\\xa0', \"Is Kroger Stock A Buy Right Now? Here's What Earnings, Charts Show\"], ['AMZN', 'Feb-24-21', '06:47PM\\xa0\\xa0', 'Nvidia Slips on Concern About Growth of Data Center Business'], ['AMZN', 'Feb-24-21', '04:36PM\\xa0\\xa0', \"Munger: 'The world would be better off without' SPACs\"], ['AMZN', 'Feb-24-21', '04:29PM\\xa0\\xa0', 'AWS Announces General Availability of Amazon Lookout for Vision'], ['AMZN', 'Feb-24-21', '04:10PM\\xa0\\xa0', 'How Tesla and Elon Musk can fight the new EV rivals'], ['AMZN', 'Feb-24-21', '03:52PM\\xa0\\xa0', 'Seizure of contraband and unauthorized items at Cowansville Institution'], ['AMZN', 'Feb-24-21', '03:19PM\\xa0\\xa0', 'Amazon Halts Submissions Of Documentaries, Short Films For Prime Video Direct'], ['AMZN', 'Feb-24-21', '03:07PM\\xa0\\xa0', \"Charlie Munger says Costco 'has one thing that Amazon does not'\"], ['AMZN', 'Feb-24-21', '02:34PM\\xa0\\xa0', 'Charlie Munger: Costco presents some danger to Amazon'], ['AMZN', 'Feb-24-21', '02:02PM\\xa0\\xa0', '20 Most Valuable Companies In The World in February 2021'], ['AMZN', 'Feb-24-21', '11:00AM\\xa0\\xa0', 'Why Harley-Davidson Abandoned Its Amazon Storefront'], ['AMZN', 'Feb-24-21', '10:54AM\\xa0\\xa0', 'Lessons to take from previous market bubbles'], ['AMZN', 'Feb-24-21', '10:43AM\\xa0\\xa0', 'IonQ in Talks to Go Public Through Merger with DMY SPAC'], ['AMZN', 'Feb-24-21', '09:40AM\\xa0\\xa0', \"'There's no playbook' for a pandemic: Pittsburgh Steelers part-owner\"], ['AMZN', 'Feb-24-21', '09:15AM\\xa0\\xa0', 'Is Dropbox Stock a Buy?'], ['AMZN', 'Feb-24-21', '09:00AM\\xa0\\xa0', 'Amazon Donates $15 Million to Code.org to Create New Equity-Minded Advanced Placement Computer Science Curriculum to Help High School Students in Underserved Communities Excel in Tech'], ['AMZN', 'Feb-24-21', '08:30AM\\xa0\\xa0', '3 Retail Apocalypse-Proof Stocks Poised For A Bull Run'], ['AMZN', 'Feb-24-21', '08:18AM\\xa0\\xa0', '2 Reasons Why Alphabet Is Undervalued'], ['AMZN', 'Feb-24-21', '08:00AM\\xa0\\xa0', '6 Top Warren Buffett Stocks Still Have Big Upside, Analysts Agree'], ['AMZN', 'Feb-24-21', '07:05AM\\xa0\\xa0', \"Macy's will disappear from most of these malls\"], ['AMZN', 'Feb-24-21', '05:12AM\\xa0\\xa0', 'Top 15 Financial Centers/Cities of The World'], ['AMZN', 'Feb-23-21', '07:15PM\\xa0\\xa0', 'Why Shopify Stock Dropped Today'], ['AMZN', 'Feb-23-21', '06:39PM\\xa0\\xa0', 'Senators, Tech Execs Recommend Hack Reporting Requirement'], ['AMZN', 'Feb-23-21', '05:07PM\\xa0\\xa0', 'Amazon Top Exec Jeff Blackburn Officially Exiting After Nearly 23 Years'], ['AMZN', 'Feb-23-21', '04:07PM\\xa0\\xa0', 'The Elon Musk Vs. Jeff Bezos Wealth Race Is Neck And Neck'], ['AMZN', 'Feb-23-21', '04:00PM\\xa0\\xa0', '3 Hot Video Game Stocks to Buy Now'], ['AMZN', 'Feb-23-21', '03:20PM\\xa0\\xa0', 'UPDATE 1-Amazon SVP Jeff Blackburn is departing the company Tuesday'], ['AMZN', 'Feb-23-21', '02:49PM\\xa0\\xa0', 'Amazon SVP Jeff Blackburn is departing the company Tuesday'], ['AMZN', 'Feb-23-21', '02:28PM\\xa0\\xa0', 'Investing In Stocks: See How To Invest In 3 Simple Steps'], ['AMZN', 'Feb-23-21', '02:00PM\\xa0\\xa0', 'Its not necessarily the greatest environment for government bonds: Strategist'], ['AMZN', 'Feb-23-21', '01:00PM\\xa0\\xa0', 'Tech Stocks Earnings Roundup'], ['AMZN', 'Feb-23-21', '11:53AM\\xa0\\xa0', '2 Great Starter Stocks for New Investors'], ['AMZN', 'Feb-23-21', '10:41AM\\xa0\\xa0', \"Amazon's Acquisition of Selz Speaks Volumes for Shopify, BigCommerce\"], ['AMZN', 'Feb-23-21', '10:35AM\\xa0\\xa0', 'Apples biggest mistake was not buying Netflix: Dan Ives'], ['AMZN', 'Feb-23-21', '10:30AM\\xa0\\xa0', 'Better Buy: Disney vs. Etsy'], ['AMZN', 'Feb-23-21', '09:20AM\\xa0\\xa0', \"Macy's (M) Beats Estimates With Tight Inventory Control\"], ['AMZN', 'Feb-23-21', '09:15AM\\xa0\\xa0', 'Walmart Is Sounding Like a Tech Company'], ['AMZN', 'Feb-23-21', '09:03AM\\xa0\\xa0', 'Where Will Etsy Stock Be in 1 Year?'], ['AMZN', 'Feb-23-21', '08:34AM\\xa0\\xa0', 'This ETF Could Help Grow Any Retirement Nest Egg'], ['AMZN', 'Feb-23-21', '08:07AM\\xa0\\xa0', 'Anti-Big Tech crusader reportedly poised to join Biden White House'], ['AMZN', 'Feb-23-21', '06:06AM\\xa0\\xa0', \"When Will There Be Another Stock Market 'Crash?' Probably Not Anytime Soon\"], ['AMZN', 'Feb-23-21', '05:59AM\\xa0\\xa0', '15 Most Valuable Cloud Computing Companies'], ['AMZN', 'Feb-23-21', '12:49AM\\xa0\\xa0', 'Mahindra electric vehicles to power Amazon India deliveries'], ['AMZN', 'Feb-22-21', '10:35PM\\xa0\\xa0', 'Elon Musk Lost $15B In A Single Day And The Cause Could Be One Of His Own Tweets'], ['AMZN', 'Feb-22-21', '07:00PM\\xa0\\xa0', 'Online tax set to push up costs for many of UKs high street retailers'], ['AMZN', 'Feb-22-21', '05:52PM\\xa0\\xa0', \"Jeff Bezos Might Be Targeting NFL's Washington Football Team: Report\"], ['AMZN', 'Feb-22-21', '05:52PM\\xa0\\xa0', 'Monday Told a Tale of 2 Stock Markets'], ['AMZN', 'Feb-22-21', '05:15PM\\xa0\\xa0', 'Gates Wants to Team Up More With Bezos to Combat Climate Crisis'], ['AMZN', 'Feb-22-21', '05:13PM\\xa0\\xa0', \"Kohl's activist investor: Get rid of the full-time flight crew and 2 private jets\"], ['AMZN', 'Feb-22-21', '04:31PM\\xa0\\xa0', 'Disney Stock, IBD Stock Of The Day, Flashes Buy Signal On This 1-2 Punch'], ['AMZN', 'Feb-22-21', '04:25PM\\xa0\\xa0', 'Health Minister Patty Hajdu tables Canada Health Act Annual Report in Parliament'], ['AMZN', 'Feb-22-21', '02:26PM\\xa0\\xa0', 'Home Depot (HD) Heavy With Option Sellers'], ['AMZN', 'Feb-22-21', '02:04PM\\xa0\\xa0', \"Lowe's (LOW) Option Traders Wary\"], ['AMZN', 'Feb-22-21', '01:47PM\\xa0\\xa0', 'eBay Stock Is Simply Too Cheap, One Analyst Says. Why He Thinks That Will Change.'], ['AMZN', 'Feb-22-21', '01:44PM\\xa0\\xa0', \"Macy's (M) Option Traders Optimistic\"], ['AMZN', 'Feb-22-21', '12:52PM\\xa0\\xa0', 'How COVID-19 changed the retail landscape'], ['AMZN', 'Feb-22-21', '11:57AM\\xa0\\xa0', 'Is GameStop Stock a Buy?'], ['AMZN', 'Feb-22-21', '11:26AM\\xa0\\xa0', \"Data: Users spent nearly 1T hours streaming in 2020, with Disney+ 'breakout' platform\"], ['AMZN', 'Feb-22-21', '09:31AM\\xa0\\xa0', 'Walmart Is Shifting From Defense to Offense'], ['AMZN', 'Feb-22-21', '09:14AM\\xa0\\xa0', 'Better Buy: Activision Blizzard vs. Amazon'], ['AMZN', 'Feb-22-21', '09:07AM\\xa0\\xa0', 'Ambanis $3.4 Billion Retail Deal Stalled by Indian Court'], ['AMZN', 'Feb-22-21', '08:02AM\\xa0\\xa0', \"Activist investors blast Kohl's management in scathing letter\"], ['AMZN', 'Feb-22-21', '06:56AM\\xa0\\xa0', 'This Costco rival is booming'], ['AMZN', 'Feb-22-21', '02:24AM\\xa0\\xa0', \"India's top court bars final tribunal ruling on Future's $3.4 billion deal\"], ['AMZN', 'Feb-22-21', '02:15AM\\xa0\\xa0', \"India's top court bars final tribunal ruling on Future's $3.4 bln deal\"], ['AMZN', 'Feb-21-21', '07:00PM\\xa0\\xa0', 'Amazon given lifeline in Future Group fight after India Supreme Court ruling'], ['AMZN', 'Feb-21-21', '04:01PM\\xa0\\xa0', \"Elizabeth Warren's Economic Plan: Break Things That Are Fixed\"], ['AMZN', 'Feb-21-21', '11:50AM\\xa0\\xa0', 'Mark Carney Joins Stripe Board Ahead of New Funding Round'], ['AMZN', 'Feb-21-21', '09:43AM\\xa0\\xa0', \"UPS's E-Commerce Growth Is Here to Stay\"], ['AMZN', 'Feb-21-21', '09:20AM\\xa0\\xa0', \"5 Reasons Datadog's Post-Earnings Dip Is a Buying Opportunity\"], ['AMZN', 'Feb-21-21', '08:56AM\\xa0\\xa0', 'Could Walmart Be a Millionaire-Maker Stock?'], ['AMZN', 'Feb-21-21', '08:00AM\\xa0\\xa0', 'New York Sues Amazon for Mishandling Coronavirus: What Investors Should Know'], ['AMZN', 'Feb-21-21', '06:53AM\\xa0\\xa0', 'Blue Origin and Telesat Team Up Against SpaceX Starlink'], ['TSLA', 'Feb-26-21', '01:27AM\\xa0\\xa0', 'Analysis: Hedge funds worry about market fallout from Tesla, ARK and spiking yields'], ['TSLA', 'Feb-26-21', '01:13AM\\xa0\\xa0', 'Analysis: Hedge funds worry about market fallout from Tesla, ARK and spiking yields'], ['TSLA', 'Feb-25-21', '10:46PM\\xa0\\xa0', 'Dow Jones Futures: Market Rally Breaks Support As Treasury Yields Soar; Nvidia, Teladoc, Tesla Flash Sell Signals'], ['TSLA', 'Feb-25-21', '09:13PM\\xa0\\xa0', 'Tesla Shut Down Fremont Factory Temporarily Over Parts Shortages, Musk Confirms'], ['TSLA', 'Feb-25-21', '08:51PM\\xa0\\xa0', 'Coinbase Could Go Public as Soon as March'], ['TSLA', 'Feb-25-21', '06:29PM\\xa0\\xa0', 'Tesla: Buy the Dip or Pump the Brakes?'], ['TSLA', 'Feb-25-21', '06:17PM\\xa0\\xa0', 'Musk Says Nickel Is Biggest Concern For Electric-Car Batteries'], ['TSLA', 'Feb-25-21', '05:55PM\\xa0\\xa0', 'Tesla Stock Drives Two Key EV Plays Near Buy Point After 743% Surge'], ['TSLA', 'Feb-25-21', '05:53PM\\xa0\\xa0', 'Nikola Sees First Significant Revenue In 2021; Fisker Reservations Jump'], ['TSLA', 'Feb-25-21', '05:40PM\\xa0\\xa0', 'Why Tesla Stock Was Slammed on Thursday'], ['TSLA', 'Feb-25-21', '05:28PM\\xa0\\xa0', 'Musk Cites Supply Chain Woes for Teslas Brief Production Halt'], ['TSLA', 'Feb-25-21', '04:44PM\\xa0\\xa0', 'Cryptocurrency Exchange Coinbase Files to Go Public'], ['TSLA', 'Feb-25-21', '04:41PM\\xa0\\xa0', 'These Nasdaq 100 stocks fell the most on Feb. 25'], ['TSLA', 'Feb-25-21', '04:34PM\\xa0\\xa0', 'Nikola reports narrower loss than expected, shares rally'], ['TSLA', 'Feb-25-21', '04:30PM\\xa0\\xa0', 'Dow Jones Falls While Tech Stocks Lead The Sell-Off As Yields Rise; Nio, Tesla Drop'], ['TSLA', 'Feb-25-21', '04:09PM\\xa0\\xa0', 'Ten-Year Rate Spike Sinks Tesla and ARKK, Deepening Tech Carnage'], ['TSLA', 'Feb-25-21', '04:07PM\\xa0\\xa0', 'Tesla Stock Falls As Production Of Top-Selling EV Halted At Key Plant'], ['TSLA', 'Feb-25-21', '04:05PM\\xa0\\xa0', 'Chinese EV Stock Li Auto Reverses Despite Surprise Profit'], ['TSLA', 'Feb-25-21', '03:14PM\\xa0\\xa0', 'Stocks Remain Weak In Final Hour As Nasdaq Leads Broad Sell-Off; Leading Stocks Stumble'], ['TSLA', 'Feb-25-21', '01:45PM\\xa0\\xa0', 'Dow Drops As 10-Year Treasury Jumps; Nasdaq Dives 2.5%; GameStop Explodes Again'], ['TSLA', 'Feb-25-21', '12:58PM\\xa0\\xa0', 'Dow Jones Dives 500 Points As Boeing, Apple Weigh; Tech Stocks Sell Off'], ['TSLA', 'Feb-25-21', '12:35PM\\xa0\\xa0', 'US STOCKS-Wall Street slides on tech selloff as bond yields rise'], ['TSLA', 'Feb-25-21', '12:19PM\\xa0\\xa0', 'Tesla Scales Back Model 3 Output Amid Supply Chain Woes'], ['TSLA', 'Feb-25-21', '12:18PM\\xa0\\xa0', 'CEO of Bill Gates-backed EV battery startup expects major breakthrough in 2021'], ['TSLA', 'Feb-25-21', '12:00PM\\xa0\\xa0', 'ETF Wrap: A risky Tesla three-way and a family affair'], ['TSLA', 'Feb-25-21', '12:00PM\\xa0\\xa0', 'Better Buy: Chipmakers or Automakers?'], ['TSLA', 'Feb-25-21', '11:20AM\\xa0\\xa0', 'Cathie Wood Says Bitcoin Has Trillions in Market Cap Potential'], ['TSLA', 'Feb-25-21', '10:19AM\\xa0\\xa0', 'Dow Jones Today, Stocks Mixed After GDP, Jobs Data; Nvidia, Tesla Slump; Twitter Rallies; Bond Yields Rise'], ['TSLA', 'Feb-25-21', '10:08AM\\xa0\\xa0', 'Microstrategy buys $1 billion of bitcoin as CEO predicts 100-fold price increase'], ['TSLA', 'Feb-25-21', '08:19AM\\xa0\\xa0', 'Dow Jones Futures: Tech Stocks Fall As GameStop Skyrockets, Tesla Model 3 Production Halted; Nvidia Leads Five Earnings Movers'], ['TSLA', 'Feb-25-21', '06:55AM\\xa0\\xa0', '2 Things That Could Get Me to Buy Tesla Stock'], ['TSLA', 'Feb-25-21', '06:52AM\\xa0\\xa0', 'Lucid Motors says its Tesla-beating electric car will come in 2024 or 2025'], ['TSLA', 'Feb-25-21', '05:43AM\\xa0\\xa0', 'Saudi Wealth Funds Lucid Windfall Will Make Up for Tesla Exit'], ['TSLA', 'Feb-25-21', '05:17AM\\xa0\\xa0', 'Top 10 Car Company Stocks to Invest In'], ['TSLA', 'Feb-25-21', '04:51AM\\xa0\\xa0', 'UPDATE 3-Tesla temporarily halts production at Model 3 line in California -Bloomberg News'], ['TSLA', 'Feb-25-21', '04:49AM\\xa0\\xa0', 'Tesla temporarily halts production at Model 3 line in California: Bloomberg News'], ['TSLA', 'Feb-25-21', '02:32AM\\xa0\\xa0', 'Chinese £3,200 budget electric car takes on Tesla'], ['TSLA', 'Feb-25-21', '02:00AM\\xa0\\xa0', 'Record redemption in Ark ETF sparks liquidity worries'], ['TSLA', 'Feb-25-21', '01:53AM\\xa0\\xa0', 'Neoen lines up government funding for big battery in Australia'], ['TSLA', 'Feb-25-21', '01:34AM\\xa0\\xa0', 'Tesla Temporarily Puts Brakes on Model 3 Production in California'], ['TSLA', 'Feb-25-21', '01:13AM\\xa0\\xa0', \"GM Joint Venture's $4500 EV Outsold Tesla Model 3 In  China: Report\"], ['TSLA', 'Feb-24-21', '07:00PM\\xa0\\xa0', 'Lucid takes on Tesla as electric vehicle competition hots up'], ['TSLA', 'Feb-24-21', '06:35PM\\xa0\\xa0', 'Why SPAC Stock Churchill Capital IV Crashed Today'], ['TSLA', 'Feb-24-21', '06:30PM\\xa0\\xa0', \"Tesla's Swoon: Is Bitcoin The Tail Wagging The Dog?\"], ['TSLA', 'Feb-24-21', '04:46PM\\xa0\\xa0', \"REFILE-US STOCKS-Wall Street finishes up as Fed's Powell soothes inflation fears\"], ['TSLA', 'Feb-24-21', '04:12PM\\xa0\\xa0', 'Cathie Wood Funds Whipsawed Amid Record Outflows, Rate Spike'], ['TSLA', 'Feb-24-21', '04:10PM\\xa0\\xa0', 'How Tesla and Elon Musk can fight the new EV rivals'], ['TSLA', 'Feb-24-21', '04:06PM\\xa0\\xa0', 'EV Startup, Apple Partner To Launch New Electric Car, Vow Short Development Time'], ['TSLA', 'Feb-24-21', '04:01PM\\xa0\\xa0', 'Tax season 2021: Intuit benefits from 10 million people opening brokerage accounts last year'], ['TSLA', 'Feb-24-21', '04:00PM\\xa0\\xa0', \"US STOCKS-Wall Street closes higher as Fed's Powell soothes inflation fears\"], ['TSLA', 'Feb-24-21', '03:50PM\\xa0\\xa0', 'Record redemption in Ark ETF sparks liquidity worries'], ['TSLA', 'Feb-24-21', '03:42PM\\xa0\\xa0', 'Record redemption in Ark ETF sparks liquidity worries'], ['TSLA', 'Feb-24-21', '03:00PM\\xa0\\xa0', 'Dow Rallies After Schumer Makes Stimulus Pledge; Boeing Soars, Apple Falls; Cyclicals Pass Buy'], ['TSLA', 'Feb-24-21', '02:28PM\\xa0\\xa0', \"US STOCKS-Wall Street advances as Fed's Powell soothes inflation worries\"], ['TSLA', 'Feb-24-21', '02:25PM\\xa0\\xa0', 'Top Stocks for March 2021'], ['TSLA', 'Feb-24-21', '02:08PM\\xa0\\xa0', 'The Tesla Model 3 May Retain Resale Value Better Than Any Other Vehicle'], ['TSLA', 'Feb-24-21', '02:02PM\\xa0\\xa0', '20 Most Valuable Companies In The World in February 2021'], ['TSLA', 'Feb-24-21', '01:34PM\\xa0\\xa0', 'Why Tesla Stock Jumped on Wednesday'], ['TSLA', 'Feb-24-21', '01:13PM\\xa0\\xa0', 'US STOCKS-Wall Street regains footing after Powell calms inflation jitters'], ['TSLA', 'Feb-24-21', '01:12PM\\xa0\\xa0', 'March 4 at 2pm EST: Autonomous, Robotics, AI, Security Robots & Public Safety Apps: Join Knightscope CEO William Santana Li for Ask Me Anything!'], ['TSLA', 'Feb-24-21', '11:59AM\\xa0\\xa0', 'Dow Rallies, Tech Stocks Reverse As Bitcoin, Tesla Rebound; Nvidia Earnings Due, While Square Dives On Sales Miss'], ['TSLA', 'Feb-24-21', '11:40AM\\xa0\\xa0', 'The NEXT: 21 to watch in 2021'], ['TSLA', 'Feb-24-21', '10:57AM\\xa0\\xa0', 'US STOCKS-Nasdaq declines as tech sell-off resumes; cyclical stocks rise'], ['TSLA', 'Feb-24-21', '10:22AM\\xa0\\xa0', 'Chinese EV Maker Li Auto Reports Earnings Thursday. It Will Be Big.'], ['TSLA', 'Feb-24-21', '10:18AM\\xa0\\xa0', 'Tesla Shares Stage Tepid Recovery on Buy the Dip Bounce'], ['TSLA', 'Feb-24-21', '10:15AM\\xa0\\xa0', 'Bitcoin is worth whatever Elon Musk and Cathie Wood say it is'], ['TSLA', 'Feb-24-21', '09:59AM\\xa0\\xa0', 'Dow Jones Today, Stocks Sag Ahead Of Powell, Day 2; J&J Jumps On FDA Vaccine Comments'], ['TSLA', 'Feb-24-21', '09:54AM\\xa0\\xa0', \"Strong Earnings From Home Depot And Lowe's, With Nvidia Waiting In The Wings\"], ['TSLA', 'Feb-24-21', '09:47AM\\xa0\\xa0', \"Understanding Tesla's Unusual Options Activity\"], ['TSLA', 'Feb-24-21', '08:53AM\\xa0\\xa0', 'Nasdaq declines as tech sell-off resumes; cyclical stocks rise'], ['TSLA', 'Feb-24-21', '08:49AM\\xa0\\xa0', 'US STOCKS-Wall Street set to open higher as tech sell-off cools'], ['TSLA', 'Feb-24-21', '08:36AM\\xa0\\xa0', 'Forget Dogecoin; Buy This Electric Car Stock Instead'], ['TSLA', 'Feb-24-21', '08:20AM\\xa0\\xa0', 'Dow Jones Futures Rise, Bitcoin Rebounds After Market Rally Makes Stand; Tesla, Square Lead Key Movers'], ['TSLA', 'Feb-24-21', '07:45AM\\xa0\\xa0', 'How to Invest in Tesla Stock for Just $1'], ['TSLA', 'Feb-24-21', '07:30AM\\xa0\\xa0', 'How Far Could Tesla Stock Fall?'], ['TSLA', 'Feb-24-21', '07:00AM\\xa0\\xa0', 'An Alternative-Energy Fund Wins With High-Yielding Stocks, and Avoids Tesla'], ['TSLA', 'Feb-24-21', '06:22AM\\xa0\\xa0', 'Tesla vs. General Motors: Which Auto Stock Is the Better Buy Now?'], ['TSLA', 'Feb-24-21', '04:06AM\\xa0\\xa0', 'Nio, Xpeng, Li Auto CEOs Bleed $10B In EV Market Carnage Led By Tesla'], ['TSLA', 'Feb-24-21', '03:04AM\\xa0\\xa0', 'Elon Musk loses spot as worlds richest person as Tesla price falls'], ['TSLA', 'Feb-24-21', '01:46AM\\xa0\\xa0', 'Tesla Gains As Cathie Wood, ARK Invest Add $170 Million In Shares Amid Sell-Off'], ['TSLA', 'Feb-23-21', '11:02PM\\xa0\\xa0', \"Cathie Wood Terms Tesla Dip 'Very Healthy,' Piles On 240,548 Shares For Ark\"], ['TSLA', 'Feb-23-21', '10:05PM\\xa0\\xa0', \"Tesla Stock Performance And WallStreetBets Mentions Have A 'Real' Connection: Barclays\"], ['TSLA', 'Feb-23-21', '09:22PM\\xa0\\xa0', 'Lucid Aims To Unveil Tesla Model 3 Rival By 2025: CEO'], ['TSLA', 'Feb-23-21', '08:54PM\\xa0\\xa0', 'Cathie Wood Buys the 13% Dip in Tesla as ARKK Slips Again'], ['TSLA', 'Feb-23-21', '08:04PM\\xa0\\xa0', 'HYLN Stock Rises On Earnings Report After Joining EV Stock Sell-Off'], ['TSLA', 'Feb-23-21', '07:00PM\\xa0\\xa0', 'NY attorney lasers Bitcoins key funding mechanism'], ['TSLA', 'Feb-23-21', '06:09PM\\xa0\\xa0', 'UPDATE 2-Lucid Motors CEO aims to launch Tesla Model 3 rival in 2024 or 2025'], ['TSLA', 'Feb-23-21', '05:36PM\\xa0\\xa0', 'Bitcoin Tumbles Below $50,000; Cathie Wood Eyes the Dip'], ['TSLA', 'Feb-23-21', '05:29PM\\xa0\\xa0', 'Square buys $170 million more in bitcoin to boost crypto holdings'], ['TSLA', 'Feb-23-21', '05:09PM\\xa0\\xa0', 'A Tesla Owner Figures Out How Easy It Is To Break Into A Model Y'], ['TSLA', 'Feb-23-21', '04:43PM\\xa0\\xa0', 'Stock Market Today: Selloff? What Selloff? Morning Plunge Quickly Evaporates'], ['TSLA', 'Feb-23-21', '04:20PM\\xa0\\xa0', 'Cathie Wood Fan Club Faces Big Test as Ark Funds Extend Rout'], ['TSLA', 'Feb-23-21', '04:19PM\\xa0\\xa0', 'Lucid Motors CEO aims to launch Tesla Model 3 rival in 2024 or 2025'], ['TSLA', 'Feb-23-21', '04:18PM\\xa0\\xa0', \"Bitcoin: Elon Musk loses world's richest title as Tesla falters\"], ['TSLA', 'Feb-23-21', '04:10PM\\xa0\\xa0', \"Luxury EV Maker That Drew Elon Musk's Challenge Clinches Biggest SPAC Deal\"], ['TSLA', 'Feb-23-21', '04:09PM\\xa0\\xa0', 'Tesla Sinks Below the Price at Which It Entered S&P 500 Index'], ['TSLA', 'Feb-23-21', '04:07PM\\xa0\\xa0', 'The Elon Musk Vs. Jeff Bezos Wealth Race Is Neck And Neck'], ['TSLA', 'Feb-23-21', '03:35PM\\xa0\\xa0', 'Dow Jones Shows Strength Amid Tech Sell-Off; Bitcoin Dives, But Shopify Stock Bounces Off Key Support Level'], ['TSLA', 'Feb-23-21', '03:15PM\\xa0\\xa0', \"Is This the Biggest Winner from Rivian Automotive's Massive IPO?\"], ['TSLA', 'Feb-23-21', '02:42PM\\xa0\\xa0', 'Analysis: Bubbles, bubbles bound for trouble?'], ['FB', 'Feb-25-21', '10:15PM\\xa0\\xa0', 'WRAPUP 2-Myanmar police raid protest district as World Bank halts some payments'], ['FB', 'Feb-25-21', '09:49PM\\xa0\\xa0', 'Myanmar police raid protest district as World Bank halts some payments'], ['FB', 'Feb-25-21', '06:23PM\\xa0\\xa0', 'Facebook Touts Personalized Ads for Small Biz in New Campaign'], ['FB', 'Feb-25-21', '06:05PM\\xa0\\xa0', 'Facebook agrees to payment deals with 3 Australian news publishers'], ['FB', 'Feb-25-21', '05:45PM\\xa0\\xa0', 'UPDATE 3-Facebook switches news back on in Australia, signs content deals'], ['FB', 'Feb-25-21', '04:50PM\\xa0\\xa0', 'Facebook switches news back on in Australia, signs content deals'], ['FB', 'Feb-25-21', '04:33PM\\xa0\\xa0', \"Facebook's Small Sacrifice to Australia Helps Keep Empire Intact\"], ['FB', 'Feb-25-21', '04:30PM\\xa0\\xa0', 'Twitter Floats Letting Users Charge for Exclusive Content'], ['FB', 'Feb-25-21', '03:24PM\\xa0\\xa0', 'Governments need more money to fight Google antitrust cases, lawyer tells Congress'], ['FB', 'Feb-25-21', '12:36PM\\xa0\\xa0', 'Facebook Messenger and Instagram down? Social networks hit by outage as users complain they cant send messages'], ['FB', 'Feb-25-21', '11:36AM\\xa0\\xa0', 'House members assail Big Tech (again), consider changes to antitrust law'], ['FB', 'Feb-25-21', '09:41AM\\xa0\\xa0', 'Unusual Options Activity Insight: Facebook'], ['FB', 'Feb-25-21', '09:37AM\\xa0\\xa0', 'Twitter Aims to Double Revenue in 3 Years; Shares Surge'], ['FB', 'Feb-25-21', '09:06AM\\xa0\\xa0', 'Facebook promotes value of personalized ads in new campaign'], ['FB', 'Feb-25-21', '09:00AM\\xa0\\xa0', 'Facebooks New Campaign Defends Targeted Advertising Business'], ['FB', 'Feb-25-21', '08:30AM\\xa0\\xa0', 'Better Buy: Facebook vs. Zoom Video Communications'], ['FB', 'Feb-25-21', '08:13AM\\xa0\\xa0', 'Facebook, Netflix Face Fresh Scrutiny as India Tightens Grip'], ['FB', 'Feb-25-21', '07:33AM\\xa0\\xa0', 'UPDATE 3-India tightens regulatory grip on Facebook, WhatsApp with new rules'], ['FB', 'Feb-25-21', '06:51AM\\xa0\\xa0', 'FEATURE-Myanmar: The revolution will be Facebook-lived'], ['FB', 'Feb-25-21', '06:00AM\\xa0\\xa0', 'Influencers with Andy Serwer: Thomas Tull'], ['FB', 'Feb-25-21', '06:00AM\\xa0\\xa0', \"'I don't' miss the glamour of Hollywood: Legendary Entertainment founder\"], ['FB', 'Feb-25-21', '05:38AM\\xa0\\xa0', 'India unveils tougher rules for social media such as Facebook, Twitter'], ['FB', 'Feb-25-21', '05:35AM\\xa0\\xa0', 'India tightens regulatory grip on Facebook, WhatsApp with new rules'], ['FB', 'Feb-25-21', '05:29AM\\xa0\\xa0', 'India unveils tougher rules for social media such as Facebook, Twitter'], ['FB', 'Feb-25-21', '04:06AM\\xa0\\xa0', 'Facebook, Google To Share Revenue With Australian Media As Country Passes Law With Global Implications'], ['FB', 'Feb-24-21', '11:45PM\\xa0\\xa0', 'UPDATE 2-Facebook bans Myanmar military from its platforms with immediate effect'], ['FB', 'Feb-24-21', '11:26PM\\xa0\\xa0', 'Facebook bans all accounts and ads linked to Myanmars military'], ['FB', 'Feb-24-21', '11:00PM\\xa0\\xa0', 'Facebook bans Myanmar military from its platforms with immediate effect'], ['FB', 'Feb-24-21', '11:00PM\\xa0\\xa0', 'Facebook Bans All Myanmar Military, Related Entities After Coup'], ['FB', 'Feb-24-21', '08:42PM\\xa0\\xa0', 'Australia passes law requiring Google, Facebook to pay for news'], ['FB', 'Feb-24-21', '07:00PM\\xa0\\xa0', 'Australia passes law to make Big Tech pay for news'], ['FB', 'Feb-24-21', '06:55PM\\xa0\\xa0', 'Facebook says it will invest $1 billion over 3 years to support news industry'], ['FB', 'Feb-24-21', '06:36PM\\xa0\\xa0', 'Australian parliament passes media reforms after last-ditch changes'], ['FB', 'Feb-24-21', '06:33PM\\xa0\\xa0', 'UPDATE 2-Australian media reforms pass parliament after last-ditch changes'], ['FB', 'Feb-24-21', '05:44PM\\xa0\\xa0', 'Facebook exploring potential news licensing agreements in Canada - source'], ['FB', 'Feb-24-21', '05:41PM\\xa0\\xa0', 'Facebook exploring potential news licensing agreements in Canada -source'], ['FB', 'Feb-24-21', '05:04PM\\xa0\\xa0', 'Progyny Beats As Fertility Clients Jump Amid Pandemic But Outlook Weak'], ['FB', 'Feb-24-21', '02:18PM\\xa0\\xa0', 'Facebook Exec Defends Australia News Blackout as Legally Necessary, Claims Company Will Pay $1B to News Orgs Over Three Years'], ['FB', 'Feb-24-21', '02:02PM\\xa0\\xa0', '20 Most Valuable Companies In The World in February 2021'], ['FB', 'Feb-24-21', '01:54PM\\xa0\\xa0', \"Triller CEO Mike Lu says the world chose the app as a 'successor' to TikTok\"], ['FB', 'Feb-24-21', '11:40AM\\xa0\\xa0', 'The NEXT: 21 to watch in 2021'], ['FB', 'Feb-24-21', '11:03AM\\xa0\\xa0', 'Facebook news ban in Australia was result of fundamental misunderstanding, says Nick Clegg'], ['FB', 'Feb-24-21', '10:54AM\\xa0\\xa0', 'Lessons to take from previous market bubbles'], ['FB', 'Feb-24-21', '10:15AM\\xa0\\xa0', 'India plans new social media controls after Twitter face-off'], ['FB', 'Feb-24-21', '06:57AM\\xa0\\xa0', 'UPDATE 1-Facebook says it inadvertently blocked content during Australia news ban'], ['FB', 'Feb-24-21', '06:49AM\\xa0\\xa0', 'Facebook Faces Year of Reckoning After Showdown in Australia'], ['FB', 'Feb-24-21', '06:46AM\\xa0\\xa0', 'Facebook to invest $1 billion in news industry after Australia row'], ['FB', 'Feb-24-21', '05:12AM\\xa0\\xa0', 'Top 15 Financial Centers/Cities of The World'], ['FB', 'Feb-23-21', '11:28PM\\xa0\\xa0', \"UPDATE 4-Australia's antitrust chief claims victory after Facebook standoff\"], ['FB', 'Feb-23-21', '09:53PM\\xa0\\xa0', \"Australia's antitrust chief claims victory after Facebook standoff\"], ['FB', 'Feb-23-21', '09:48PM\\xa0\\xa0', 'Australian lawmakers expected to pass amendments to Facebook, Google law'], ['FB', 'Feb-23-21', '07:00PM\\xa0\\xa0', 'Politicians are using yesterdays tools for todays tech challenges'], ['FB', 'Feb-23-21', '07:00PM\\xa0\\xa0', 'Facebook pledges to pay $1bn for news'], ['FB', 'Feb-23-21', '05:05PM\\xa0\\xa0', \"Apple's rumored mixed reality headset puts spotlight on VR\"], ['FB', 'Feb-23-21', '04:27PM\\xa0\\xa0', 'Progyny, IBD Stock Of The Day, Eyes Buy Point Ahead Of Earnings While Pandemic Freezes Fertility'], ['FB', 'Feb-23-21', '04:18PM\\xa0\\xa0', 'Facebook to Participate in the Morgan Stanley Technology, Media & Telecom Conference'], ['FB', 'Feb-23-21', '03:42PM\\xa0\\xa0', \"Facebook and Google 'too powerful' says watchdog boss\"], ['FB', 'Feb-23-21', '03:38PM\\xa0\\xa0', \"UPDATE 1-Facebook's oversight board has received appeal from 'user' in Trump ban case\"], ['FB', 'Feb-23-21', '03:16PM\\xa0\\xa0', \"Facebook's oversight board has received appeal from 'user' in Trump ban case\"], ['FB', 'Feb-23-21', '03:09PM\\xa0\\xa0', \"Facebook's oversight board has received appeal from 'user' in Trump ban case\"], ['FB', 'Feb-23-21', '02:21PM\\xa0\\xa0', 'Facebook Settles Battle With Australia. What It Means for Investors.'], ['FB', 'Feb-23-21', '02:00PM\\xa0\\xa0', 'Its not necessarily the greatest environment for government bonds: Strategist'], ['FB', 'Feb-23-21', '11:41AM\\xa0\\xa0', 'How Facebook Won in the News-Blackout Standoff With Australia'], ['FB', 'Feb-23-21', '11:31AM\\xa0\\xa0', 'Gary Vaynerchuk provides playbook on how to improve investment outcomes'], ['FB', 'Feb-23-21', '11:25AM\\xa0\\xa0', 'Facebook News Is Back in the Outback'], ['FB', 'Feb-23-21', '08:31AM\\xa0\\xa0', 'Facebook To Restore News Feeds In Australia After Government Deal'], ['FB', 'Feb-23-21', '08:19AM\\xa0\\xa0', 'Facebook befriends Australia again, after striking a deal with Canberra government on new law'], ['FB', 'Feb-23-21', '08:07AM\\xa0\\xa0', 'Anti-Big Tech crusader reportedly poised to join Biden White House'], ['FB', 'Feb-23-21', '06:47AM\\xa0\\xa0', 'QUOTE BOX-Reaction to Facebook agreeing a concession deal with Australia on media bill'], ['FB', 'Feb-23-21', '06:16AM\\xa0\\xa0', 'ECB wants veto power on stablecoins in the euro zone'], ['FB', 'Feb-23-21', '06:06AM\\xa0\\xa0', 'ECB wants veto power on stablecoins in the euro zone'], ['FB', 'Feb-23-21', '04:05AM\\xa0\\xa0', 'Facebook Ends Australia News Blackout After Law Compromise'], ['FB', 'Feb-23-21', '03:51AM\\xa0\\xa0', 'QUOTE BOX-Reaction to Facebook agreeing a concession deal with Australia on media bill'], ['FB', 'Feb-23-21', '01:46AM\\xa0\\xa0', 'Facebook Australia to bring news back to platform'], ['FB', 'Feb-23-21', '12:23AM\\xa0\\xa0', 'Facebook Re-Friends Australia As Government Amends News-Revenue-Sharing Bill'], ['FB', 'Feb-23-21', '12:09AM\\xa0\\xa0', 'Facebook will restore news stories in Australia after government agrees to amend bill'], ['FB', 'Feb-22-21', '11:45PM\\xa0\\xa0', \"UPDATE 5-Facebook 'refriends' Australia after changes to media laws\"], ['FB', 'Feb-22-21', '10:27PM\\xa0\\xa0', \"Facebook 'refriends' Australia after changes to media laws\"], ['FB', 'Feb-22-21', '10:23PM\\xa0\\xa0', 'Australia closer to passing watershed Google, Facebook laws'], ['FB', 'Feb-22-21', '07:00PM\\xa0\\xa0', 'Facebook strikes deal with Australia to restore news on its platform'], ['FB', 'Feb-22-21', '06:38PM\\xa0\\xa0', 'These Are The 5 Best Stocks To Buy And Watch Now'], ['FB', 'Feb-22-21', '06:00PM\\xa0\\xa0', 'Is GBTC Stock A Good Buy As Bitcoin Surges To Record Highs?'], ['FB', 'Feb-22-21', '05:07PM\\xa0\\xa0', 'Facebook Stock Is Being Hurt by Apples Ad Changes. The Worry Is Likely Overdone.'], ['FB', 'Feb-22-21', '03:14PM\\xa0\\xa0', \"Microsoft's Partnership With European News Publishers Threatens Facebook and Alphabet\"], ['FB', 'Feb-22-21', '02:26PM\\xa0\\xa0', 'IBD 50 Stocks To Watch: Chip Leader With 178% Top-Line Growth Surges Past Buy Point'], ['FB', 'Feb-22-21', '01:28PM\\xa0\\xa0', 'Snap Is Now Worth Nearly $100 Billion. Why The Rally Could Keep Going.'], ['FB', 'Feb-22-21', '08:31AM\\xa0\\xa0', 'Twitter Kicked Trump Out and Its Stock Surged to a Record'], ['FB', 'Feb-22-21', '07:20AM\\xa0\\xa0', \"UK's culture minister to meet Facebook over Australia news ban\"], ['FB', 'Feb-22-21', '06:41AM\\xa0\\xa0', 'UPDATE 1-Australia says no further Facebook, Google amendments as final vote nears'], ['FB', 'Feb-21-21', '08:20PM\\xa0\\xa0', 'Australia says no further Facebook, Google amendments as final vote nears'], ['FB', 'Feb-21-21', '08:15PM\\xa0\\xa0', \"Australian won't change planned content laws despite Facebook block - lawmaker\"], ['FB', 'Feb-21-21', '07:47PM\\xa0\\xa0', 'Clubhouse Chats Are Breached, Raising Concerns Over Security'], ['FB', 'Feb-21-21', '07:10AM\\xa0\\xa0', 'Could Pinterest Become the Next Facebook?'], ['FB', 'Feb-21-21', '02:41AM\\xa0\\xa0', 'With EPS Growth And More, Facebook (NASDAQ:FB) Is Interesting'], ['FB', 'Feb-20-21', '10:04PM\\xa0\\xa0', 'Facebook takes down main page of Myanmar military'], ['FB', 'Feb-20-21', '09:50PM\\xa0\\xa0', \"Australia won't advertise COVID-19 vaccine on Facebook but vows publicity\"], ['FB', 'Feb-20-21', '09:46PM\\xa0\\xa0', \"Australia won't advertise COVID-19 vaccine on Facebook but vows publicity\"], ['FB', 'Feb-20-21', '07:00PM\\xa0\\xa0', 'Australias fight with Big Tech previews other battles to come'], ['FB', 'Feb-20-21', '12:01PM\\xa0\\xa0', '15 Best Stocks To Buy Now For Beginner Investors'], ['FB', 'Feb-20-21', '12:00PM\\xa0\\xa0', 'Why Facebook Stock Is Headed Higher']]\n"
          ],
          "name": "stdout"
        }
      ]
    },
    {
      "cell_type": "code",
      "metadata": {
        "colab": {
          "base_uri": "https://localhost:8080/"
        },
        "id": "Rh5x9pv8rwvE",
        "outputId": "627994f2-5eb2-4c05-e0fe-3a098003ca02"
      },
      "source": [
        "df = pd.DataFrame(parsed_data, columns = ['ticker','date','time', 'title'])\r\n",
        "print(df.tail())"
      ],
      "execution_count": 16,
      "outputs": [
        {
          "output_type": "stream",
          "text": [
            "    ticker  ...                                              title\n",
            "295     FB  ...  Australia won't advertise COVID-19 vaccine on ...\n",
            "296     FB  ...  Australia won't advertise COVID-19 vaccine on ...\n",
            "297     FB  ...  Australias fight with Big Tech previews other ...\n",
            "298     FB  ...   15 Best Stocks To Buy Now For Beginner Investors\n",
            "299     FB  ...                Why Facebook Stock Is Headed Higher\n",
            "\n",
            "[5 rows x 4 columns]\n"
          ],
          "name": "stdout"
        }
      ]
    },
    {
      "cell_type": "code",
      "metadata": {
        "colab": {
          "base_uri": "https://localhost:8080/"
        },
        "id": "rBXpUVA48Pl7",
        "outputId": "ffd54acf-3aad-4773-ac77-2113b901f0c0"
      },
      "source": [
        "#initalize Vader\r\n",
        "import nltk\r\n",
        "nltk.download('vader_lexicon')\r\n",
        "\r\n",
        "vader = SentimentIntensityAnalyzer()\r\n",
        "\r\n",
        "f = lambda title: vader.polarity_scores(title)['compound']\r\n",
        "\r\n",
        "df['compound'] = df['title'].apply(f)\r\n",
        "\r\n",
        "print(df.head())"
      ],
      "execution_count": 17,
      "outputs": [
        {
          "output_type": "stream",
          "text": [
            "[nltk_data] Downloading package vader_lexicon to /root/nltk_data...\n",
            "[nltk_data]   Package vader_lexicon is already up-to-date!\n",
            "  ticker  ... compound\n",
            "0   AMZN  ...   0.0000\n",
            "1   AMZN  ...  -0.2732\n",
            "2   AMZN  ...   0.0000\n",
            "3   AMZN  ...  -0.5719\n",
            "4   AMZN  ...   0.1779\n",
            "\n",
            "[5 rows x 5 columns]\n"
          ],
          "name": "stdout"
        }
      ]
    },
    {
      "cell_type": "code",
      "metadata": {
        "id": "lxSLmo0X9WMe"
      },
      "source": [
        "df['date'] = pd.to_datetime(df.date).dt.date"
      ],
      "execution_count": 18,
      "outputs": []
    },
    {
      "cell_type": "code",
      "metadata": {
        "colab": {
          "base_uri": "https://localhost:8080/",
          "height": 319
        },
        "id": "7VYl2dIf-bay",
        "outputId": "bde0e7d9-ea5d-471e-8e40-204fb2ee56a8"
      },
      "source": [
        "plt.figure(figsize=(10,8))\r\n",
        "\r\n",
        "mean_df = df.groupby(['ticker', 'date']).mean()\r\n",
        "print(mean_df)"
      ],
      "execution_count": 19,
      "outputs": [
        {
          "output_type": "stream",
          "text": [
            "                   compound\n",
            "ticker date                \n",
            "AMZN   2021-02-21  0.172887\n",
            "       2021-02-22 -0.005736\n",
            "       2021-02-23  0.161745\n",
            "       2021-02-24  0.109681\n",
            "       2021-02-25  0.092722\n",
            "FB     2021-02-20  0.000000\n",
            "       2021-02-21  0.206760\n",
            "       2021-02-22 -0.028462\n",
            "       2021-02-23  0.026271\n",
            "       2021-02-24 -0.017870\n",
            "       2021-02-25  0.077948\n",
            "TSLA   2021-02-23  0.166750\n",
            "       2021-02-24  0.070300\n",
            "       2021-02-25 -0.006223\n",
            "       2021-02-26 -0.440400\n"
          ],
          "name": "stdout"
        },
        {
          "output_type": "display_data",
          "data": {
            "text/plain": [
              "<Figure size 720x576 with 0 Axes>"
            ]
          },
          "metadata": {
            "tags": []
          }
        }
      ]
    },
    {
      "cell_type": "code",
      "metadata": {
        "colab": {
          "base_uri": "https://localhost:8080/"
        },
        "id": "9IAjFLcy-7kL",
        "outputId": "80224b9e-d8b2-4a36-f86c-0ba1a6ab83b4"
      },
      "source": [
        "mean_df = mean_df.unstack()\r\n",
        "mean_df = mean_df.xs('compound', axis=\"columns\").transpose()\r\n",
        "print(mean_df)"
      ],
      "execution_count": 20,
      "outputs": [
        {
          "output_type": "stream",
          "text": [
            "ticker          AMZN        FB      TSLA\n",
            "date                                    \n",
            "2021-02-20       NaN  0.000000       NaN\n",
            "2021-02-21  0.172887  0.206760       NaN\n",
            "2021-02-22 -0.005736 -0.028462       NaN\n",
            "2021-02-23  0.161745  0.026271  0.166750\n",
            "2021-02-24  0.109681 -0.017870  0.070300\n",
            "2021-02-25  0.092722  0.077948 -0.006223\n",
            "2021-02-26       NaN       NaN -0.440400\n"
          ],
          "name": "stdout"
        }
      ]
    },
    {
      "cell_type": "code",
      "metadata": {
        "colab": {
          "base_uri": "https://localhost:8080/",
          "height": 327
        },
        "id": "ow-uwKqq_fnt",
        "outputId": "29a574b1-4706-4932-96f4-132f9243a10f"
      },
      "source": [
        "mean_df.plot(kind='bar')\r\n",
        "plt.grid()"
      ],
      "execution_count": 21,
      "outputs": [
        {
          "output_type": "display_data",
          "data": {
            "image/png": "[encoded data removed]",
            "text/plain": [
              "<Figure size 432x288 with 1 Axes>"
            ]
          },
          "metadata": {
            "tags": [],
            "needs_background": "light"
          }
        }
      ]
    },
    {
      "cell_type": "code",
      "metadata": {
        "id": "a6zVFqqTAVS6"
      },
      "source": [
        ""
      ],
      "execution_count": null,
      "outputs": []
    }
  ]
}